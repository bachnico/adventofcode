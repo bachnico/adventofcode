{
 "cells": [
  {
   "cell_type": "markdown",
   "id": "c443ed20",
   "metadata": {},
   "source": [
    "# Read input and setup tasks"
   ]
  },
  {
   "cell_type": "code",
   "execution_count": 1,
   "id": "d519285a",
   "metadata": {},
   "outputs": [],
   "source": [
    "file = open(\"input.txt\")\n",
    "input_raw = file.read().splitlines()\n",
    "\n",
    "input = [lines.split(\" \") for lines in input_raw]"
   ]
  },
  {
   "cell_type": "markdown",
   "id": "840a1087",
   "metadata": {},
   "source": [
    "# Task 1"
   ]
  },
  {
   "cell_type": "code",
   "execution_count": 2,
   "id": "e88e9fe3",
   "metadata": {
    "scrolled": false
   },
   "outputs": [
    {
     "name": "stdout",
     "output_type": "stream",
     "text": [
      "Solution Part 1: 8392\n"
     ]
    }
   ],
   "source": [
    "XYZ = [\"X\", \"Y\", \"Z\"]\n",
    "ABC = [\"A\", \"B\", \"C\"]\n",
    "\n",
    "score = 0\n",
    "for [opponent, me] in input:\n",
    "    score += XYZ.index(me) + 1\n",
    "\n",
    "    if(ABC.index(opponent) == XYZ.index(me)):\n",
    "        score += 3\n",
    "\n",
    "    if (ABC.index(opponent) - XYZ.index(me)) % 3 == 2:\n",
    "        score += 6\n",
    "\n",
    "\n",
    "print(\"Solution Part 1:\", score) "
   ]
  },
  {
   "cell_type": "markdown",
   "id": "0100f97f",
   "metadata": {},
   "source": [
    "# Task 2\n"
   ]
  },
  {
   "cell_type": "code",
   "execution_count": 3,
   "id": "b1abd9db",
   "metadata": {},
   "outputs": [
    {
     "name": "stdout",
     "output_type": "stream",
     "text": [
      "Solution Part 2: 10116\n"
     ]
    }
   ],
   "source": [
    "score = 0\n",
    "for [opponent, outcome] in input:\n",
    "    # X => lose => -1 in list\n",
    "    # Y => draw => +0 in list\n",
    "    # Z => win  => +1 in list\n",
    "    # outcome   => index of XYZ - 1 \n",
    "\n",
    "    me_index = (ABC.index(opponent) + XYZ.index(outcome) - 1) % 3\n",
    "\n",
    "    score += me_index + 1           # Points for Rock, Paper, Sissors\n",
    "    score += XYZ.index(outcome) * 3 # Points for Win, Draw, Lose\n",
    "    \n",
    "print(\"Solution Part 2:\", score)"
   ]
  }
 ],
 "metadata": {
  "kernelspec": {
   "display_name": "Python 3 (ipykernel)",
   "language": "python",
   "name": "python3"
  },
  "language_info": {
   "codemirror_mode": {
    "name": "ipython",
    "version": 3
   },
   "file_extension": ".py",
   "mimetype": "text/x-python",
   "name": "python",
   "nbconvert_exporter": "python",
   "pygments_lexer": "ipython3",
   "version": "3.9.13"
  }
 },
 "nbformat": 4,
 "nbformat_minor": 5
}
