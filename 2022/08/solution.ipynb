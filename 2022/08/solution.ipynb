{
 "cells": [
  {
   "cell_type": "markdown",
   "id": "c94f096c",
   "metadata": {},
   "source": [
    "# Read input and setup tasks"
   ]
  },
  {
   "cell_type": "code",
   "execution_count": 1,
   "id": "08b5ba0a",
   "metadata": {
    "scrolled": false
   },
   "outputs": [],
   "source": [
    "import numpy as np\n",
    "\n",
    "file_handler = open(\"./input.txt\")\n",
    "input_raw = file_handler.read().splitlines()\n",
    "\n",
    "\n",
    "input_numbers = [[*string] for string in input_raw]\n",
    "\n",
    "grid = np.asarray(input_numbers, dtype=np.int32)        "
   ]
  },
  {
   "cell_type": "markdown",
   "id": "60367594",
   "metadata": {},
   "source": [
    "# Part 1"
   ]
  },
  {
   "cell_type": "code",
   "execution_count": 2,
   "id": "076aa3df",
   "metadata": {},
   "outputs": [
    {
     "name": "stdout",
     "output_type": "stream",
     "text": [
      "Solution Part 1: 1700\n"
     ]
    }
   ],
   "source": [
    "isVisible = np.full_like(grid, False, dtype=\"bool\")\n",
    "\n",
    "isVisible[:, 0] = True\n",
    "isVisible[:, -1] = True\n",
    "isVisible[0, :] = True\n",
    "isVisible[-1, :] = True\n",
    "\n",
    "for x in range(grid.shape[0]):\n",
    "    for y in range(grid.shape[1]):\n",
    "        top = np.max(grid[0:y, x], initial=0)\n",
    "        bottom = np.max(grid[y+1:, x], initial=0)\n",
    "        left = np.max(grid[y, 0:x], initial=0)\n",
    "        right = np.max(grid[y, x+1:], initial=0)\n",
    "        \n",
    "        if left < grid[y,x] or right < grid[y,x] or top < grid[y,x] or bottom < grid[y,x]:\n",
    "            isVisible[y,x] = True\n",
    "\n",
    "print(\"Solution Part 1:\", np.sum(np.sum(isVisible)))   "
   ]
  },
  {
   "cell_type": "markdown",
   "id": "5ea234a8",
   "metadata": {},
   "source": [
    "# Part 2"
   ]
  },
  {
   "cell_type": "code",
   "execution_count": 3,
   "id": "e52e3771",
   "metadata": {
    "scrolled": false
   },
   "outputs": [
    {
     "name": "stdout",
     "output_type": "stream",
     "text": [
      "Solution Part 2: 470596\n"
     ]
    }
   ],
   "source": [
    "def countUntilLarger(list, value):\n",
    "    count = 0\n",
    "    for x in list:\n",
    "        count += 1\n",
    "        if x >= value:\n",
    "            break\n",
    "        \n",
    "    return count\n",
    "\n",
    "scenicScores = np.full_like(grid, 0)\n",
    "\n",
    "for x in range(len(input_numbers)):\n",
    "    for y in range(len(input_numbers[0])):\n",
    "        top = countUntilLarger(np.flip(grid[0:y, x]), grid[y,x])\n",
    "        bottom = countUntilLarger(grid[y+1:, x], grid[y,x])\n",
    "        left = countUntilLarger(np.flip(grid[y, 0:x]), grid[y,x])\n",
    "        right = countUntilLarger(grid[y, x+1:], grid[y,x])\n",
    "        \n",
    "        scenicScores[y,x] = top * bottom * left * right\n",
    "\n",
    "print(\"Solution Part 2:\", np.max(scenicScores))"
   ]
  }
 ],
 "metadata": {
  "kernelspec": {
   "display_name": "Python 3 (ipykernel)",
   "language": "python",
   "name": "python3"
  },
  "language_info": {
   "codemirror_mode": {
    "name": "ipython",
    "version": 3
   },
   "file_extension": ".py",
   "mimetype": "text/x-python",
   "name": "python",
   "nbconvert_exporter": "python",
   "pygments_lexer": "ipython3",
   "version": "3.9.13"
  },
  "vscode": {
   "interpreter": {
    "hash": "ff7f5b590f144195a0be2cf47d25ddc7d04e52c801f7b158ade6e568151e690d"
   }
  }
 },
 "nbformat": 4,
 "nbformat_minor": 5
}
