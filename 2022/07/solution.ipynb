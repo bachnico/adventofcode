{
 "cells": [
  {
   "cell_type": "markdown",
   "id": "cda594b6",
   "metadata": {},
   "source": [
    "# Read input and setup tasks"
   ]
  },
  {
   "cell_type": "code",
   "execution_count": 1,
   "id": "9ad1507d",
   "metadata": {
    "scrolled": false
   },
   "outputs": [],
   "source": [
    "import re\n",
    "\n",
    "file = open(\"input.txt\")\n",
    "input_raw = file.read().splitlines()\n",
    "\n",
    "def readFileSizes(startIndex, directoryName):\n",
    "    pointer = startIndex\n",
    "    size = 0\n",
    "    \n",
    "    sub_directories = []\n",
    "    \n",
    "    while pointer < len(input_raw):\n",
    "        if \"$ ls\" in input_raw[pointer] or \"dir \" in input_raw[pointer]:\n",
    "            pointer += 1\n",
    "        elif \"$ cd \" in input_raw[pointer]:\n",
    "            directory = re.findall(\".* cd ([\\w\\/\\.]+)\", input_raw[pointer])[0]\n",
    "            pointer += 1\n",
    "        \n",
    "            if directory == \"..\":\n",
    "                sub_directories.insert(0, (directoryName, size))\n",
    "                return pointer, sub_directories, size\n",
    "            \n",
    "            pointer, directories_new, new_size = readFileSizes(pointer, directoryName + directory + \"/\")\n",
    "            \n",
    "            sub_directories += directories_new\n",
    "            size += new_size\n",
    "        else:\n",
    "            [fileSize, file] = input_raw[pointer].split(\" \")\n",
    "            size += int(fileSize)\n",
    "            pointer += 1\n",
    "    \n",
    "    sub_directories.insert(0, (directoryName, size))    \n",
    "    return pointer, sub_directories, size\n",
    "\n",
    "pointer, directories, size = readFileSizes(1, \"/\")"
   ]
  },
  {
   "cell_type": "markdown",
   "id": "e1632e44",
   "metadata": {},
   "source": [
    "# Part 1"
   ]
  },
  {
   "cell_type": "code",
   "execution_count": 2,
   "id": "8a549443",
   "metadata": {
    "scrolled": false
   },
   "outputs": [
    {
     "name": "stdout",
     "output_type": "stream",
     "text": [
      "Solution Part 1: 1886043\n"
     ]
    }
   ],
   "source": [
    "output = 0\n",
    "for (directory, size) in directories:\n",
    "    if size <= 100000:\n",
    "        output += size\n",
    "\n",
    "print(\"Solution Part 1:\", output)"
   ]
  },
  {
   "cell_type": "markdown",
   "id": "74a7a4e6",
   "metadata": {},
   "source": [
    "# Part 2"
   ]
  },
  {
   "cell_type": "code",
   "execution_count": 3,
   "id": "9548ef91",
   "metadata": {},
   "outputs": [
    {
     "name": "stdout",
     "output_type": "stream",
     "text": [
      "Solution Part 2: 3842121\n"
     ]
    }
   ],
   "source": [
    "totalUsed = int(directories[0][1])\n",
    "\n",
    "totalCapacity = 70000000\n",
    "hasToBeFree = 30000000\n",
    "\n",
    "candidates = []\n",
    "for (directory, size) in directories:\n",
    "    if totalCapacity - totalUsed + size >= hasToBeFree:\n",
    "        candidates.append(size)\n",
    "        \n",
    "candidates.sort()\n",
    "\n",
    "print(\"Solution Part 2:\", candidates[0])"
   ]
  }
 ],
 "metadata": {
  "kernelspec": {
   "display_name": "Python 3 (ipykernel)",
   "language": "python",
   "name": "python3"
  },
  "language_info": {
   "codemirror_mode": {
    "name": "ipython",
    "version": 3
   },
   "file_extension": ".py",
   "mimetype": "text/x-python",
   "name": "python",
   "nbconvert_exporter": "python",
   "pygments_lexer": "ipython3",
   "version": "3.9.13"
  },
  "vscode": {
   "interpreter": {
    "hash": "ff7f5b590f144195a0be2cf47d25ddc7d04e52c801f7b158ade6e568151e690d"
   }
  }
 },
 "nbformat": 4,
 "nbformat_minor": 5
}
