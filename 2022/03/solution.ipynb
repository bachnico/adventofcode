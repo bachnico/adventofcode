{
 "cells": [
  {
   "cell_type": "markdown",
   "id": "cf283a84",
   "metadata": {},
   "source": [
    "# Read Input and Setup Tasks"
   ]
  },
  {
   "cell_type": "code",
   "execution_count": 1,
   "id": "9ad1507d",
   "metadata": {
    "scrolled": false
   },
   "outputs": [],
   "source": [
    "file = open(\"input.txt\")\n",
    "input_raw = file.read().splitlines()\n",
    "\n",
    "def getScoreOfLetter(l):\n",
    "    if ord(l) >= 97:\n",
    "        return ord(l) - 96\n",
    "    else:\n",
    "        return ord(l) - 65 + 27"
   ]
  },
  {
   "cell_type": "markdown",
   "id": "def0db54",
   "metadata": {},
   "source": [
    "# Part 1"
   ]
  },
  {
   "cell_type": "code",
   "execution_count": 2,
   "id": "65dce464",
   "metadata": {},
   "outputs": [
    {
     "name": "stdout",
     "output_type": "stream",
     "text": [
      "Solution Part 1: 8493\n"
     ]
    }
   ],
   "source": [
    "score = 0\n",
    "    \n",
    "for rucksack in input_raw:\n",
    "    first = rucksack[:len(rucksack)//2]\n",
    "    second = rucksack[len(rucksack)//2:]\n",
    "\n",
    "    duplicates = [l for l in first if l in second]\n",
    "\n",
    "    score += getScoreOfLetter(duplicates[0]) # only for this first douplicate\n",
    "\n",
    "print(\"Solution Part 1:\", score)"
   ]
  },
  {
   "cell_type": "markdown",
   "id": "5b52fcbf",
   "metadata": {},
   "source": [
    "# Part 2"
   ]
  },
  {
   "cell_type": "code",
   "execution_count": 3,
   "id": "8f19c32c",
   "metadata": {},
   "outputs": [
    {
     "name": "stdout",
     "output_type": "stream",
     "text": [
      "Solution Part 2: 2552\n"
     ]
    }
   ],
   "source": [
    "score = 0\n",
    "for i in range(len(input_raw)//3):\n",
    "    elveGroup = input_raw[i*3:i*3+3]\n",
    "\n",
    "    duplicates = [l for l in elveGroup[0] if l in elveGroup[1] and l in elveGroup[2]]\n",
    "\n",
    "    score += getScoreOfLetter(duplicates[0]) # only for this first douplicate\n",
    "\n",
    "print(\"Solution Part 2:\", score)"
   ]
  }
 ],
 "metadata": {
  "kernelspec": {
   "display_name": "Python 3 (ipykernel)",
   "language": "python",
   "name": "python3"
  },
  "language_info": {
   "codemirror_mode": {
    "name": "ipython",
    "version": 3
   },
   "file_extension": ".py",
   "mimetype": "text/x-python",
   "name": "python",
   "nbconvert_exporter": "python",
   "pygments_lexer": "ipython3",
   "version": "3.9.13"
  }
 },
 "nbformat": 4,
 "nbformat_minor": 5
}
