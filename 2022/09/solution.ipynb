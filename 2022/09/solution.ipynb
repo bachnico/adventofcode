{
 "cells": [
  {
   "cell_type": "markdown",
   "id": "4fd3a24a",
   "metadata": {},
   "source": [
    "# Read input and setup tasks"
   ]
  },
  {
   "cell_type": "code",
   "execution_count": 1,
   "id": "08b5ba0a",
   "metadata": {
    "scrolled": false
   },
   "outputs": [],
   "source": [
    "import numpy as np\n",
    "\n",
    "file_handler = open(\"./input.txt\")\n",
    "input_raw = file_handler.read().splitlines()\n",
    "\n",
    "\n",
    "def fixTail(head, tail):\n",
    "    difference = head[0]-tail[0], head[1]-tail[1]\n",
    "    \n",
    "    if abs(difference[0]) + abs(difference[1]) > 2:\n",
    "        # move both in x and y axis\n",
    "        tail = (tail[0] + np.sign(difference[0]), tail[1])\n",
    "        tail = (tail[0], tail[1] + np.sign(difference[1]))\n",
    "    elif abs(difference[0]) > 1:\n",
    "        # move in x axis\n",
    "        tail = (tail[0] + np.sign(difference[0]), tail[1])\n",
    "    elif abs(difference[1]) > 1:\n",
    "        # move in y axis\n",
    "        tail = (tail[0], tail[1] + np.sign(difference[1]))\n",
    "\n",
    "    return tail\n",
    "\n",
    "def simulateTail(knots):\n",
    "    recentTailPlaces = []\n",
    "\n",
    "    for line in input_raw:\n",
    "        [direction, steps] = line.split(\" \")\n",
    "        steps = int(steps)\n",
    "\n",
    "        for _ in range(steps):\n",
    "            if direction == \"R\":\n",
    "                knots[0] = (knots[0][0] + 1,  knots[0][1])\n",
    "            elif direction == \"L\":\n",
    "                knots[0] = (knots[0][0] - 1, knots[0][1])\n",
    "            elif direction == \"U\":\n",
    "                knots[0] = (knots[0][0], knots[0][1] - 1)\n",
    "            elif direction == \"D\":\n",
    "                knots[0] = (knots[0][0], knots[0][1] + 1)\n",
    "\n",
    "            for i in range(1, len(knots)):\n",
    "                knots[i] = fixTail(knots[i-1], knots[i])\n",
    "\n",
    "            recentTailPlaces.append(knots[-1])\n",
    "            \n",
    "    return set(recentTailPlaces)"
   ]
  },
  {
   "cell_type": "markdown",
   "id": "984d74e8",
   "metadata": {},
   "source": [
    "# Part 1"
   ]
  },
  {
   "cell_type": "code",
   "execution_count": 2,
   "id": "ae96ca27",
   "metadata": {},
   "outputs": [
    {
     "name": "stdout",
     "output_type": "stream",
     "text": [
      "Solution Part 1: 6384\n"
     ]
    }
   ],
   "source": [
    "knots = [(0,0)] * 2\n",
    "print(\"Solution Part 1:\", len(simulateTail(knots)))"
   ]
  },
  {
   "cell_type": "markdown",
   "id": "0e282064",
   "metadata": {},
   "source": [
    "# Part 2"
   ]
  },
  {
   "cell_type": "code",
   "execution_count": 3,
   "id": "e52e3771",
   "metadata": {
    "scrolled": false
   },
   "outputs": [
    {
     "name": "stdout",
     "output_type": "stream",
     "text": [
      "Solution Part 2: 2734\n"
     ]
    }
   ],
   "source": [
    "knots = [(0,0)] * 10\n",
    "print(\"Solution Part 2:\", len(simulateTail(knots)))"
   ]
  }
 ],
 "metadata": {
  "kernelspec": {
   "display_name": "Python 3 (ipykernel)",
   "language": "python",
   "name": "python3"
  },
  "language_info": {
   "codemirror_mode": {
    "name": "ipython",
    "version": 3
   },
   "file_extension": ".py",
   "mimetype": "text/x-python",
   "name": "python",
   "nbconvert_exporter": "python",
   "pygments_lexer": "ipython3",
   "version": "3.9.13"
  },
  "vscode": {
   "interpreter": {
    "hash": "ff7f5b590f144195a0be2cf47d25ddc7d04e52c801f7b158ade6e568151e690d"
   }
  }
 },
 "nbformat": 4,
 "nbformat_minor": 5
}
