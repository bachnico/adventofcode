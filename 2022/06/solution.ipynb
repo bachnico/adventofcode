{
 "cells": [
  {
   "cell_type": "markdown",
   "id": "0ae712f9",
   "metadata": {},
   "source": [
    "# Read input and setup tasks"
   ]
  },
  {
   "cell_type": "code",
   "execution_count": 1,
   "id": "08b5ba0a",
   "metadata": {},
   "outputs": [],
   "source": [
    "file_handler = open(\"./input.txt\")\n",
    "input_raw = file_handler.read().splitlines()[0]"
   ]
  },
  {
   "cell_type": "markdown",
   "id": "048b88f0",
   "metadata": {},
   "source": [
    "# Part 1"
   ]
  },
  {
   "cell_type": "code",
   "execution_count": 2,
   "id": "c1b834e4",
   "metadata": {},
   "outputs": [
    {
     "name": "stdout",
     "output_type": "stream",
     "text": [
      "Solution Part 1:\n",
      "1896\n"
     ]
    }
   ],
   "source": [
    "for i in range(len(input_raw)):\n",
    "    substring = set(input_raw[i:i+4])\n",
    "    if len(substring) == 4:\n",
    "        print(\"Solution Part 1:\")\n",
    "        print(i + 4)\n",
    "        break"
   ]
  },
  {
   "cell_type": "markdown",
   "id": "7b698f81",
   "metadata": {},
   "source": [
    "# Part 2"
   ]
  },
  {
   "cell_type": "code",
   "execution_count": 3,
   "id": "e52e3771",
   "metadata": {},
   "outputs": [
    {
     "name": "stdout",
     "output_type": "stream",
     "text": [
      "Solution Part 2:\n",
      "3452\n"
     ]
    }
   ],
   "source": [
    "for i in range(len(input_raw)):\n",
    "    substring = set(input_raw[i:i+14])\n",
    "    if len(substring) == 14:\n",
    "        print(\"Solution Part 2:\")\n",
    "        print(i + 14)\n",
    "        break"
   ]
  }
 ],
 "metadata": {
  "kernelspec": {
   "display_name": "Python 3 (ipykernel)",
   "language": "python",
   "name": "python3"
  },
  "language_info": {
   "codemirror_mode": {
    "name": "ipython",
    "version": 3
   },
   "file_extension": ".py",
   "mimetype": "text/x-python",
   "name": "python",
   "nbconvert_exporter": "python",
   "pygments_lexer": "ipython3",
   "version": "3.9.13"
  },
  "vscode": {
   "interpreter": {
    "hash": "ff7f5b590f144195a0be2cf47d25ddc7d04e52c801f7b158ade6e568151e690d"
   }
  }
 },
 "nbformat": 4,
 "nbformat_minor": 5
}
