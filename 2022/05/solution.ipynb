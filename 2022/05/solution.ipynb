{
 "cells": [
  {
   "cell_type": "markdown",
   "id": "2a78d567",
   "metadata": {},
   "source": [
    "# Read input and setup tasks"
   ]
  },
  {
   "cell_type": "code",
   "execution_count": 1,
   "id": "887d76cd",
   "metadata": {},
   "outputs": [],
   "source": [
    "import re\n",
    "\n",
    "file_handler = open(\"./input.txt\")\n",
    "input_raw = file_handler.read().splitlines()\n",
    "\n",
    "crates_in, moves = input_raw[:8], input_raw[10:]\n",
    "\n",
    "def initializeCrates():\n",
    "    crates = [[], [], [], [], [], [], [], [], []]\n",
    "    \n",
    "    for crateLine in crates_in:\n",
    "        items = crateLine[1::4]\n",
    "    \n",
    "        for i, item in enumerate(items):\n",
    "            if item != \" \":\n",
    "                crates[i].insert(0, item)\n",
    "\n",
    "    return crates\n",
    "\n",
    "def printCrates(crates):\n",
    "    for crate in crates:\n",
    "        print(crate[-1], end=\"\")\n"
   ]
  },
  {
   "cell_type": "markdown",
   "id": "1bddc822",
   "metadata": {},
   "source": [
    "# Part 1"
   ]
  },
  {
   "cell_type": "code",
   "execution_count": 2,
   "id": "9b1ceb62",
   "metadata": {
    "scrolled": false
   },
   "outputs": [
    {
     "name": "stdout",
     "output_type": "stream",
     "text": [
      "Solution Part 1:\n",
      "VRWBSFZWM"
     ]
    }
   ],
   "source": [
    "crates = initializeCrates()\n",
    "\n",
    "for move in moves:\n",
    "    [mv, fr, to] = [int(x) for x in re.findall(\"move (\\d+) from (\\d+) to (\\d+)\", move)[0]]\n",
    "    [fr, to] = [fr - 1, to -1]\n",
    "    \n",
    "    for i in range(mv):\n",
    "        crates[to].append(crates[fr][-1])\n",
    "        crates[fr] = crates[fr][:-1]\n",
    "\n",
    "print(\"Solution Part 1:\")\n",
    "printCrates(crates)"
   ]
  },
  {
   "cell_type": "markdown",
   "id": "7b951a2a",
   "metadata": {},
   "source": [
    "# Part 2"
   ]
  },
  {
   "cell_type": "code",
   "execution_count": 3,
   "id": "0d7624dd",
   "metadata": {},
   "outputs": [
    {
     "name": "stdout",
     "output_type": "stream",
     "text": [
      "Solution Part 2:\n",
      "RBTWJWMCF"
     ]
    }
   ],
   "source": [
    "crates = initializeCrates()\n",
    "\n",
    "for move in moves:\n",
    "    [mv, fr, to] = [int(x) for x in re.findall(\"move (\\d+) from (\\d+) to (\\d+)\", move)[0]]\n",
    "    [fr, to] = [fr - 1, to -1]\n",
    "    \n",
    "    top = crates[fr][-mv:]\n",
    "    crates[to].extend(top)\n",
    "    crates[fr] = crates[fr][:-mv]\n",
    "\n",
    "print(\"Solution Part 2:\")\n",
    "printCrates(crates)"
   ]
  }
 ],
 "metadata": {
  "kernelspec": {
   "display_name": "Python 3 (ipykernel)",
   "language": "python",
   "name": "python3"
  },
  "language_info": {
   "codemirror_mode": {
    "name": "ipython",
    "version": 3
   },
   "file_extension": ".py",
   "mimetype": "text/x-python",
   "name": "python",
   "nbconvert_exporter": "python",
   "pygments_lexer": "ipython3",
   "version": "3.9.13"
  },
  "vscode": {
   "interpreter": {
    "hash": "ff7f5b590f144195a0be2cf47d25ddc7d04e52c801f7b158ade6e568151e690d"
   }
  }
 },
 "nbformat": 4,
 "nbformat_minor": 5
}
