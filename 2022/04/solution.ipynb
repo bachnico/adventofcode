{
 "cells": [
  {
   "cell_type": "markdown",
   "id": "96f87011",
   "metadata": {
    "scrolled": false
   },
   "source": [
    "# Read Input and Setup Tasks"
   ]
  },
  {
   "cell_type": "code",
   "execution_count": 1,
   "id": "e2d73407",
   "metadata": {},
   "outputs": [],
   "source": [
    "file = open(\"input.txt\")\n",
    "input_raw = file.read().splitlines()"
   ]
  },
  {
   "cell_type": "markdown",
   "id": "18eba5e5",
   "metadata": {},
   "source": [
    "# Part 1"
   ]
  },
  {
   "cell_type": "code",
   "execution_count": 2,
   "id": "b1764068",
   "metadata": {},
   "outputs": [
    {
     "name": "stdout",
     "output_type": "stream",
     "text": [
      "Solution Part 1: 496\n"
     ]
    }
   ],
   "source": [
    "count = 0\n",
    "\n",
    "for pair in input_raw:\n",
    "    [[l1, u1], [l2, u2]] = [s.split(\"-\") for s in pair.split(\",\")]\n",
    "    \n",
    "    l1 = int(l1)\n",
    "    l2 = int(l2)\n",
    "    u1 = int(u1)\n",
    "    u2 = int(u2)\n",
    "    \n",
    "    if l2 > u2:\n",
    "        print(pair, l1, u1, l2, u2, int(l2) > int(u2), l2 > u2, \"dafuq?\")\n",
    "    \n",
    "    if (l1 <= l2 and u2 <= u1) or (l2 <= l1 and u1 <= u2):\n",
    "        count += 1\n",
    "\n",
    "print(\"Solution Part 1:\", count)"
   ]
  },
  {
   "cell_type": "markdown",
   "id": "e7fdff3f",
   "metadata": {},
   "source": [
    "# Part 2"
   ]
  },
  {
   "cell_type": "code",
   "execution_count": 3,
   "id": "0cf29852",
   "metadata": {},
   "outputs": [
    {
     "name": "stdout",
     "output_type": "stream",
     "text": [
      "Solution Part 2: 847\n"
     ]
    }
   ],
   "source": [
    "count = 0\n",
    "for pair in input_raw:\n",
    "    [[l1, u1], [l2, u2]] = [s.split(\"-\") for s in pair.split(\",\")]\n",
    "    \n",
    "    l1 = int(l1)\n",
    "    l2 = int(l2)\n",
    "    u1 = int(u1)\n",
    "    u2 = int(u2)\n",
    "    \n",
    "    if (l1 <= l2 and u1 >= l2) or (l2 <= l1 and u2 >= l1):\n",
    "        count += 1\n",
    "    \n",
    "print(\"Solution Part 2:\", count)"
   ]
  }
 ],
 "metadata": {
  "kernelspec": {
   "display_name": "Python 3 (ipykernel)",
   "language": "python",
   "name": "python3"
  },
  "language_info": {
   "codemirror_mode": {
    "name": "ipython",
    "version": 3
   },
   "file_extension": ".py",
   "mimetype": "text/x-python",
   "name": "python",
   "nbconvert_exporter": "python",
   "pygments_lexer": "ipython3",
   "version": "3.9.13"
  },
  "vscode": {
   "interpreter": {
    "hash": "ff7f5b590f144195a0be2cf47d25ddc7d04e52c801f7b158ade6e568151e690d"
   }
  }
 },
 "nbformat": 4,
 "nbformat_minor": 5
}
