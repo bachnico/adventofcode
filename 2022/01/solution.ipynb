{
 "cells": [
  {
   "cell_type": "markdown",
   "id": "c443ed20",
   "metadata": {},
   "source": [
    "# Read input and setup tasks"
   ]
  },
  {
   "cell_type": "code",
   "execution_count": 1,
   "id": "d519285a",
   "metadata": {},
   "outputs": [],
   "source": [
    "file = open(\"input.txt\")\n",
    "input = file.read().splitlines()"
   ]
  },
  {
   "cell_type": "markdown",
   "id": "840a1087",
   "metadata": {},
   "source": [
    "# Task 1"
   ]
  },
  {
   "cell_type": "code",
   "execution_count": 2,
   "id": "e88e9fe3",
   "metadata": {
    "scrolled": false
   },
   "outputs": [
    {
     "name": "stdout",
     "output_type": "stream",
     "text": [
      "Solution Part 1: 68467\n"
     ]
    }
   ],
   "source": [
    "caloriesByElves = []\n",
    "\n",
    "current = 0\n",
    "for calorie in input:\n",
    "    if calorie == \"\":\n",
    "        caloriesByElves.append(int(current))\n",
    "        current = 0\n",
    "    else:\n",
    "        current += int(calorie)\n",
    "\n",
    "caloriesByElves.sort()\n",
    "\n",
    "print(\"Solution Part 1:\", caloriesByElves[-1])"
   ]
  },
  {
   "cell_type": "markdown",
   "id": "0100f97f",
   "metadata": {},
   "source": [
    "# Task 2\n"
   ]
  },
  {
   "cell_type": "code",
   "execution_count": 3,
   "id": "b1abd9db",
   "metadata": {},
   "outputs": [
    {
     "name": "stdout",
     "output_type": "stream",
     "text": [
      "Solution Part 2: 203420\n"
     ]
    }
   ],
   "source": [
    "print(\"Solution Part 2:\", caloriesByElves[-1] + caloriesByElves[-2] + caloriesByElves[-3])"
   ]
  }
 ],
 "metadata": {
  "kernelspec": {
   "display_name": "Python 3 (ipykernel)",
   "language": "python",
   "name": "python3"
  },
  "language_info": {
   "codemirror_mode": {
    "name": "ipython",
    "version": 3
   },
   "file_extension": ".py",
   "mimetype": "text/x-python",
   "name": "python",
   "nbconvert_exporter": "python",
   "pygments_lexer": "ipython3",
   "version": "3.9.13"
  }
 },
 "nbformat": 4,
 "nbformat_minor": 5
}
