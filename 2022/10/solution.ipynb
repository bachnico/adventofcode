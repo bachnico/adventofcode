{
 "cells": [
  {
   "cell_type": "markdown",
   "id": "804483f1",
   "metadata": {},
   "source": [
    "# Read input and setup tasks"
   ]
  },
  {
   "cell_type": "code",
   "execution_count": 1,
   "id": "d7dbbc63",
   "metadata": {},
   "outputs": [],
   "source": [
    "import numpy as np\n",
    "\n",
    "file_handler = open(\"./input.txt\")\n",
    "input_raw = file_handler.read().splitlines()\n",
    "\n",
    "def applyFunctionToInput(invokeFunction):\n",
    "    registerValue = 1\n",
    "    cycles = 0\n",
    "    \n",
    "    for instruction in input_raw:\n",
    "        if instruction == \"noop\":\n",
    "            invokeFunction(cycles, registerValue)\n",
    "            cycles += 1\n",
    "        else:\n",
    "            [inst, value] = instruction.split(\" \")\n",
    "            invokeFunction(cycles, registerValue)\n",
    "            cycles += 1\n",
    "            invokeFunction(cycles, registerValue)\n",
    "            cycles += 1\n",
    "            registerValue += int(value)"
   ]
  },
  {
   "cell_type": "markdown",
   "id": "2d7778e4",
   "metadata": {},
   "source": [
    "# Part 1"
   ]
  },
  {
   "cell_type": "code",
   "execution_count": 2,
   "id": "08b5ba0a",
   "metadata": {
    "scrolled": false
   },
   "outputs": [
    {
     "name": "stdout",
     "output_type": "stream",
     "text": [
      "20 440\n",
      "60 1260\n",
      "100 1900\n",
      "140 2940\n",
      "180 3420\n",
      "220 4840\n",
      "Solution Part 1: 14800\n"
     ]
    }
   ],
   "source": [
    "def calcSignalStrength(cycle, register):\n",
    "    global sumOfSignalStrength\n",
    "    if cycle == 20 or (cycle > 20 and (cycle - 20) % 40 == 0):\n",
    "        print(cycle, register * cycle)\n",
    "        sumOfSignalStrength += register * cycle\n",
    "\n",
    "\n",
    "            \n",
    "sumOfSignalStrength = 0 \n",
    "applyFunctionToInput(calcSignalStrength)\n",
    "print(\"Solution Part 1:\", sumOfSignalStrength)"
   ]
  },
  {
   "cell_type": "markdown",
   "id": "8813f6c0",
   "metadata": {},
   "source": [
    "# Part 2"
   ]
  },
  {
   "cell_type": "code",
   "execution_count": 3,
   "id": "e52e3771",
   "metadata": {
    "scrolled": false
   },
   "outputs": [
    {
     "name": "stdout",
     "output_type": "stream",
     "text": [
      "\n",
      "###..####.#..#.####..##..###..####.####.\n",
      "#..#.#....#.#.....#.#..#.#..#.#....#....\n",
      "#..#.###..##.....#..#....#..#.###..###..\n",
      "###..#....#.#...#...#....###..#....#....\n",
      "#.#..#....#.#..#....#..#.#....#....#....\n",
      "#..#.#....#..#.####..##..#....####.#....\n",
      "Solution Part 2: RFKZCPEF\n"
     ]
    }
   ],
   "source": [
    "def drawCRT(cycle, register):\n",
    "    if cycle % 40 == 0:\n",
    "        print()\n",
    "        \n",
    "    if abs(register - (cycle % 40)) <= 1:\n",
    "        print(\"#\", end = '')\n",
    "    else:\n",
    "        print(\".\", end = '')\n",
    "    \n",
    "applyFunctionToInput(drawCRT)\n",
    "\n",
    "print(\"\")\n",
    "print(\"Solution Part 2:\", \"RFKZCPEF\")"
   ]
  }
 ],
 "metadata": {
  "kernelspec": {
   "display_name": "Python 3 (ipykernel)",
   "language": "python",
   "name": "python3"
  },
  "language_info": {
   "codemirror_mode": {
    "name": "ipython",
    "version": 3
   },
   "file_extension": ".py",
   "mimetype": "text/x-python",
   "name": "python",
   "nbconvert_exporter": "python",
   "pygments_lexer": "ipython3",
   "version": "3.9.13"
  },
  "vscode": {
   "interpreter": {
    "hash": "ff7f5b590f144195a0be2cf47d25ddc7d04e52c801f7b158ade6e568151e690d"
   }
  }
 },
 "nbformat": 4,
 "nbformat_minor": 5
}
